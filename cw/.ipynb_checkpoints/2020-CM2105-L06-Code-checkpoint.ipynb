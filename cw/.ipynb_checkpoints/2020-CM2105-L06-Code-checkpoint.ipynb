{
 "cells": [
  {
   "cell_type": "code",
   "execution_count": 1,
   "metadata": {},
   "outputs": [
    {
     "name": "stdout",
     "output_type": "stream",
     "text": [
      "Populating the interactive namespace from numpy and matplotlib\n"
     ]
    }
   ],
   "source": [
    "%pylab inline\n",
    "import pandas as pd\n",
    "from pandas import Series, DataFrame\n",
    "from scipy import stats"
   ]
  },
  {
   "cell_type": "code",
   "execution_count": 2,
   "metadata": {},
   "outputs": [
    {
     "name": "stdout",
     "output_type": "stream",
     "text": [
      "sample mean: town1 = 176.43\n",
      "sample mean: town2 = 180.83\n",
      "difference = 4.4\n"
     ]
    },
    {
     "data": {
      "text/plain": [
       "Ttest_indResult(statistic=-0.5776290693172614, pvalue=0.5751474470258668)"
      ]
     },
     "execution_count": 2,
     "metadata": {},
     "output_type": "execute_result"
    }
   ],
   "source": [
    "town1=array([152, 183, 188, 185, 187, 180, 160])\n",
    "town2=array([155, 185, 188, 185, 189, 183])\n",
    "town1_mean=mean(town1)\n",
    "town2_mean=mean(town2)\n",
    "print('sample mean: town1 =', round(town1_mean,2))\n",
    "print('sample mean: town2 =', round(town2_mean,2))\n",
    "print('difference =', round(abs(town1_mean-town2_mean),2))\n",
    "stats.ttest_ind(town1, town2)"
   ]
  },
  {
   "cell_type": "code",
   "execution_count": 3,
   "metadata": {},
   "outputs": [
    {
     "name": "stdout",
     "output_type": "stream",
     "text": [
      "sample mean: town1 = 160.71\n",
      "sample mean: town2 = 180.83\n",
      "difference = 20.12\n"
     ]
    },
    {
     "data": {
      "text/plain": [
       "Ttest_indResult(statistic=-12.913596384064421, pvalue=5.453015851404574e-08)"
      ]
     },
     "execution_count": 3,
     "metadata": {},
     "output_type": "execute_result"
    }
   ],
   "source": [
    "town1=array([160, 163, 162, 158, 162, 164, 156])\n",
    "town2=array([184, 182, 176, 182, 180, 181])\n",
    "town1_mean=mean(town1)\n",
    "town2_mean=mean(town2)\n",
    "print('sample mean: town1 =', round(town1_mean,2))\n",
    "print('sample mean: town2 =', round(town2_mean,2))\n",
    "print('difference =', round(abs(town1_mean-town2_mean),2))\n",
    "stats.ttest_ind(town1, town2)"
   ]
  },
  {
   "cell_type": "code",
   "execution_count": 4,
   "metadata": {},
   "outputs": [
    {
     "name": "stdout",
     "output_type": "stream",
     "text": [
      "normality test: town1: (0.7899420261383057, 0.032529961317777634)\n",
      "normality test: town2: (0.6561822891235352, 0.002065251348540187)\n"
     ]
    }
   ],
   "source": [
    "town1=array([152, 183, 188, 185, 187, 180, 160])\n",
    "town2=array([155, 185, 188, 185, 189, 183])\n",
    "print('normality test: town1:', stats.shapiro(town1))\n",
    "print('normality test: town2:', stats.shapiro(town2))"
   ]
  },
  {
   "cell_type": "code",
   "execution_count": 5,
   "metadata": {},
   "outputs": [
    {
     "name": "stdout",
     "output_type": "stream",
     "text": [
      "Is the observed difference significant? False\n"
     ]
    }
   ],
   "source": [
    "print ('Is the observed difference significant?', stats.mannwhitneyu(town1, town2, alternative='two-sided')[1]<0.05)"
   ]
  },
  {
   "cell_type": "code",
   "execution_count": 6,
   "metadata": {},
   "outputs": [
    {
     "name": "stdout",
     "output_type": "stream",
     "text": [
      "normality test: town1: (0.9306030869483948, 0.5560402870178223)\n",
      "normality test: town2: (0.9112409353256226, 0.444610595703125)\n"
     ]
    }
   ],
   "source": [
    "# normality test\n",
    "town1=array([160, 163, 162, 158, 162, 164, 156])\n",
    "town2=array([184, 182, 176, 182, 180, 181])\n",
    "print('normality test: town1:', stats.shapiro(town1))\n",
    "print('normality test: town2:', stats.shapiro(town2))"
   ]
  },
  {
   "cell_type": "code",
   "execution_count": 7,
   "metadata": {},
   "outputs": [
    {
     "name": "stdout",
     "output_type": "stream",
     "text": [
      "Is the observed difference significant? True\n"
     ]
    }
   ],
   "source": [
    "print ('Is the observed difference significant?', stats.ttest_ind(town1, town2)[1]<0.05)"
   ]
  },
  {
   "cell_type": "code",
   "execution_count": 9,
   "metadata": {},
   "outputs": [
    {
     "data": {
      "text/html": [
       "<div>\n",
       "<style scoped>\n",
       "    .dataframe tbody tr th:only-of-type {\n",
       "        vertical-align: middle;\n",
       "    }\n",
       "\n",
       "    .dataframe tbody tr th {\n",
       "        vertical-align: top;\n",
       "    }\n",
       "\n",
       "    .dataframe thead th {\n",
       "        text-align: right;\n",
       "    }\n",
       "</style>\n",
       "<table border=\"1\" class=\"dataframe\">\n",
       "  <thead>\n",
       "    <tr style=\"text-align: right;\">\n",
       "      <th></th>\n",
       "      <th>Diet-Plan1</th>\n",
       "      <th>Diet-Plan2</th>\n",
       "      <th>Diet-Plan3</th>\n",
       "      <th>Diet-Plan4</th>\n",
       "    </tr>\n",
       "    <tr>\n",
       "      <th>Participant</th>\n",
       "      <th></th>\n",
       "      <th></th>\n",
       "      <th></th>\n",
       "      <th></th>\n",
       "    </tr>\n",
       "  </thead>\n",
       "  <tbody>\n",
       "    <tr>\n",
       "      <th>P1</th>\n",
       "      <td>13.50</td>\n",
       "      <td>18.90</td>\n",
       "      <td>22.95</td>\n",
       "      <td>20.25</td>\n",
       "    </tr>\n",
       "    <tr>\n",
       "      <th>P2</th>\n",
       "      <td>16.20</td>\n",
       "      <td>16.20</td>\n",
       "      <td>21.60</td>\n",
       "      <td>27.00</td>\n",
       "    </tr>\n",
       "    <tr>\n",
       "      <th>P3</th>\n",
       "      <td>10.80</td>\n",
       "      <td>20.25</td>\n",
       "      <td>20.25</td>\n",
       "      <td>25.65</td>\n",
       "    </tr>\n",
       "    <tr>\n",
       "      <th>P4</th>\n",
       "      <td>16.20</td>\n",
       "      <td>21.60</td>\n",
       "      <td>21.60</td>\n",
       "      <td>22.95</td>\n",
       "    </tr>\n",
       "    <tr>\n",
       "      <th>P5</th>\n",
       "      <td>17.55</td>\n",
       "      <td>18.90</td>\n",
       "      <td>18.90</td>\n",
       "      <td>24.30</td>\n",
       "    </tr>\n",
       "    <tr>\n",
       "      <th>P6</th>\n",
       "      <td>14.85</td>\n",
       "      <td>20.25</td>\n",
       "      <td>18.90</td>\n",
       "      <td>24.30</td>\n",
       "    </tr>\n",
       "  </tbody>\n",
       "</table>\n",
       "</div>"
      ],
      "text/plain": [
       "             Diet-Plan1  Diet-Plan2  Diet-Plan3  Diet-Plan4\n",
       "Participant                                                \n",
       "P1                13.50       18.90       22.95       20.25\n",
       "P2                16.20       16.20       21.60       27.00\n",
       "P3                10.80       20.25       20.25       25.65\n",
       "P4                16.20       21.60       21.60       22.95\n",
       "P5                17.55       18.90       18.90       24.30\n",
       "P6                14.85       20.25       18.90       24.30"
      ]
     },
     "execution_count": 9,
     "metadata": {},
     "output_type": "execute_result"
    }
   ],
   "source": [
    "dplan=pd.read_csv('dietplan.txt', sep='\\t', index_col='Participant')\n",
    "#del dplan.index.name\n",
    "dplan"
   ]
  },
  {
   "cell_type": "code",
   "execution_count": 10,
   "metadata": {},
   "outputs": [
    {
     "name": "stdout",
     "output_type": "stream",
     "text": [
      "Mean: Diet-Plan1 = 14.85\n",
      "Mean: Diet-Plan2 = 19.349999999999998\n",
      "Mean: Diet-Plan3 = 20.700000000000003\n",
      "Mean: Diet-Plan4 = 24.075000000000003\n"
     ]
    }
   ],
   "source": [
    "dp1=dplan['Diet-Plan1'].values\n",
    "ave1=mean(dp1)\n",
    "\n",
    "dp2=dplan['Diet-Plan2'].values\n",
    "ave2=mean(dp2)\n",
    "\n",
    "dp3=dplan['Diet-Plan3'].values\n",
    "ave3=mean(dp3)\n",
    "\n",
    "dp4=dplan['Diet-Plan4'].values\n",
    "ave4=mean(dp4)\n",
    "\n",
    "print('Mean: Diet-Plan1 =', ave1)\n",
    "print('Mean: Diet-Plan2 =', ave2)\n",
    "print('Mean: Diet-Plan3 =', ave3)\n",
    "print('Mean: Diet-Plan4 =', ave4)\n"
   ]
  },
  {
   "cell_type": "code",
   "execution_count": 11,
   "metadata": {},
   "outputs": [
    {
     "name": "stdout",
     "output_type": "stream",
     "text": [
      "Diet-Plan1 is normal? True\n",
      "Diet-Plan2 is normal? True\n",
      "Diet-Plan3 is normal? True\n",
      "Diet-Plan4 is normal? True\n"
     ]
    }
   ],
   "source": [
    "print ('Diet-Plan1 is normal?', stats.shapiro(dp1)[1]>0.05)\n",
    "print ('Diet-Plan2 is normal?', stats.shapiro(dp2)[1]>0.05)\n",
    "print ('Diet-Plan3 is normal?', stats.shapiro(dp3)[1]>0.05)\n",
    "print ('Diet-Plan4 is normal?', stats.shapiro(dp4)[1]>0.05)"
   ]
  },
  {
   "cell_type": "code",
   "execution_count": 12,
   "metadata": {},
   "outputs": [
    {
     "name": "stdout",
     "output_type": "stream",
     "text": [
      "Diet-Plan2 vs Diet-Plan3 significant? False\n"
     ]
    }
   ],
   "source": [
    "print ('Diet-Plan2 vs Diet-Plan3 significant?', stats.ttest_ind(dp2, dp3)[1]<0.05)"
   ]
  },
  {
   "cell_type": "code",
   "execution_count": 13,
   "metadata": {},
   "outputs": [
    {
     "name": "stdout",
     "output_type": "stream",
     "text": [
      "Diet-Plan3 vs Diet-Plan4 significant? True\n"
     ]
    }
   ],
   "source": [
    "print ('Diet-Plan3 vs Diet-Plan4 significant?', stats.ttest_ind(dp3, dp4)[1]<0.05)"
   ]
  },
  {
   "cell_type": "code",
   "execution_count": 14,
   "metadata": {},
   "outputs": [
    {
     "name": "stdout",
     "output_type": "stream",
     "text": [
      "Diet-Plan1 vs Diet-Plan2 significant? True\n"
     ]
    }
   ],
   "source": [
    "print ('Diet-Plan1 vs Diet-Plan2 significant?', stats.ttest_ind(dp1, dp2)[1]<0.05)"
   ]
  },
  {
   "cell_type": "code",
   "execution_count": null,
   "metadata": {
    "collapsed": true
   },
   "outputs": [],
   "source": []
  }
 ],
 "metadata": {
  "kernelspec": {
   "display_name": "Python 3",
   "language": "python",
   "name": "python3"
  },
  "language_info": {
   "codemirror_mode": {
    "name": "ipython",
    "version": 3
   },
   "file_extension": ".py",
   "mimetype": "text/x-python",
   "name": "python",
   "nbconvert_exporter": "python",
   "pygments_lexer": "ipython3",
   "version": "3.7.3"
  }
 },
 "nbformat": 4,
 "nbformat_minor": 1
}
